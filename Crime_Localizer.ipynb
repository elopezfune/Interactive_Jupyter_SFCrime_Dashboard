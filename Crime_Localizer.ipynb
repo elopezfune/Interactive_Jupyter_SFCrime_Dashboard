{
 "cells": [
  {
   "cell_type": "code",
   "execution_count": 3,
   "metadata": {},
   "outputs": [],
   "source": [
    "import numpy as np\n",
    "import pandas as pd\n",
    "import folium\n",
    "import matplotlib.pyplot as plt\n",
    "from folium import plugins\n",
    "import ipywidgets as widgets\n",
    "from ipywidgets import Layout\n",
    "\n",
    "#dataframe = pd.read_csv('Police_Department_Incidents_-_Previous_Year__2016_.csv')\n",
    "\n",
    "def localizer(dataframe):\n",
    "    \n",
    "    df = dataframe.copy()\n",
    "    style = {'description_width': 'initial'}\n",
    "    limit_case = widgets.IntSlider(value=1000, min=100, max=5000, step=1,\n",
    "                                   description='Max Number of Case:',\n",
    "                                   disabled=False, style=style)\n",
    "    \n",
    "    unique_district = df.PdDistrict.unique()\n",
    "    district = widgets.SelectMultiple(options = unique_district.tolist(),\n",
    "                                      value = ['BAYVIEW', 'NORTHERN'],\n",
    "                                      description='District',\n",
    "                                      disabled=False,\n",
    "                                      layout = Layout(width='50%', height='80px', display='flex'))\n",
    "    unique_cat = df.Category.unique()\n",
    "    style = {'description_width': 'initial'}\n",
    "    category = widgets.SelectMultiple(options = unique_cat.tolist(),\n",
    "                                      value = ['VANDALISM', 'ASSAULT', 'ROBBERY'],\n",
    "                                      description='Criminal Case',\n",
    "                                      disabled=False,\n",
    "                                      style=style,\n",
    "                                      layout = Layout(width='50%', height='80px'))\n",
    "    \n",
    "    \n",
    "\n",
    "    def update_map(district, category, limit):\n",
    "\n",
    "        #df = pd.read_csv('SF_crimes.csv')\n",
    "        #df = pd.read_csv('Police_Department_Incidents_-_Previous_Year__2016_.csv')\n",
    "        df = dataframe.iloc[0:limit, :]\n",
    "\n",
    "        latitude = 37.77\n",
    "        longitude = -122.42\n",
    "\n",
    "        df_dist = df.loc[df['PdDistrict'].isin(np.array(district))]\n",
    "        df_category = df_dist.loc[df_dist['Category'].isin(np.array(category))]\n",
    "\n",
    "        cat_unique = df_category['Category'].value_counts()\n",
    "        cat_unique = cat_unique.reset_index()\n",
    "\n",
    "        dist_unique = df_category['PdDistrict'].value_counts()\n",
    "        dist_unique = dist_unique.reset_index()\n",
    "\n",
    "        fig, (ax1, ax2) = plt.subplots(1, 2, figsize=(20,10))\n",
    "\n",
    "        # create map and display it\n",
    "        sanfran_map = folium.Map(location=[latitude, longitude], zoom_start=12)\n",
    "\n",
    "\n",
    "        incidents = plugins.MarkerCluster().add_to(sanfran_map)\n",
    "\n",
    "    # loop through the dataframe and add each data point to the mark cluster\n",
    "        for lat, lng, label, in zip(df_category.Y, df_category.X, df_category.Category):\n",
    "            folium.Marker(\n",
    "            location=[lat, lng],\n",
    "            icon=None,\n",
    "            popup=label,\n",
    "            ).add_to(incidents)\n",
    "    # show map\n",
    "        display(sanfran_map)\n",
    "\n",
    "        ax1.bar(cat_unique['index'], cat_unique['Category'])\n",
    "        ax1.set_title('Amount of Criminal Case Based on Category')\n",
    "        ax2.bar(dist_unique['index'], dist_unique['PdDistrict'])\n",
    "        ax2.set_title('Amount of Criminal Case in Selected District')\n",
    "\n",
    "        plt.show()\n",
    "        \n",
    "        \n",
    "    return widgets.interactive(update_map, district = district, category = category, limit=limit_case)"
   ]
  },
  {
   "cell_type": "code",
   "execution_count": 4,
   "metadata": {
    "scrolled": false
   },
   "outputs": [
    {
     "data": {
      "application/vnd.jupyter.widget-view+json": {
       "model_id": "aed6d4a9748f4de594755180c5d3dfef",
       "version_major": 2,
       "version_minor": 0
      },
      "text/plain": [
       "interactive(children=(SelectMultiple(description='District', index=(1, 4), layout=Layout(display='flex', heigh…"
      ]
     },
     "metadata": {},
     "output_type": "display_data"
    }
   ],
   "source": [
    "dataframe = pd.read_csv('Police_Department_Incidents_-_Previous_Year__2016_.csv')\n",
    "\n",
    "localizer(dataframe)"
   ]
  },
  {
   "cell_type": "code",
   "execution_count": null,
   "metadata": {},
   "outputs": [],
   "source": []
  },
  {
   "cell_type": "code",
   "execution_count": null,
   "metadata": {},
   "outputs": [],
   "source": []
  }
 ],
 "metadata": {
  "kernelspec": {
   "display_name": "Python 3",
   "language": "python",
   "name": "python3"
  },
  "language_info": {
   "codemirror_mode": {
    "name": "ipython",
    "version": 3
   },
   "file_extension": ".py",
   "mimetype": "text/x-python",
   "name": "python",
   "nbconvert_exporter": "python",
   "pygments_lexer": "ipython3",
   "version": "3.8.6"
  }
 },
 "nbformat": 4,
 "nbformat_minor": 4
}
